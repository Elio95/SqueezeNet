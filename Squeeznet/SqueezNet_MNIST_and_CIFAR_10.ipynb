{
  "nbformat": 4,
  "nbformat_minor": 0,
  "metadata": {
    "colab": {
      "name": "SqueezNet MNIST and CIFAR_10.ipynb",
      "version": "0.3.2",
      "provenance": [],
      "collapsed_sections": [],
      "toc_visible": true
    },
    "kernelspec": {
      "name": "python3",
      "display_name": "Python 3"
    },
    "accelerator": "GPU"
  },
  "cells": [
    {
      "metadata": {
        "id": "iUQAVV-YKiBY",
        "colab_type": "text"
      },
      "cell_type": "markdown",
      "source": [
        "# SqueezNet CIFAR-10 "
      ]
    },
    {
      "metadata": {
        "id": "4QdscQL-uOeV",
        "colab_type": "code",
        "colab": {}
      },
      "cell_type": "code",
      "source": [
        "import math\n",
        "import torch\n",
        "import torch.nn as nn\n",
        "import torch.nn.init as init\n",
        "import torch.utils.model_zoo as model_zoo"
      ],
      "execution_count": 0,
      "outputs": []
    },
    {
      "metadata": {
        "id": "DFlESEVruVYv",
        "colab_type": "code",
        "colab": {}
      },
      "cell_type": "code",
      "source": [
        "__all__ = ['SqueezeNet', 'squeezenet1_0', 'squeezenet1_1']\n"
      ],
      "execution_count": 0,
      "outputs": []
    },
    {
      "metadata": {
        "id": "DOHlY6w4uYbe",
        "colab_type": "code",
        "colab": {}
      },
      "cell_type": "code",
      "source": [
        "model_urls = {\n",
        "    'squeezenet1_0': 'https://download.pytorch.org/models/squeezenet1_0-a815701f.pth',\n",
        "    'squeezenet1_1': 'https://download.pytorch.org/models/squeezenet1_1-f364aa15.pth',\n",
        "}"
      ],
      "execution_count": 0,
      "outputs": []
    },
    {
      "metadata": {
        "id": "FFTaPh0DuaOc",
        "colab_type": "code",
        "colab": {}
      },
      "cell_type": "code",
      "source": [
        "class Fire(nn.Module):\n",
        "\n",
        "    def __init__(self, inplanes, squeeze_planes,\n",
        "                 expand1x1_planes, expand3x3_planes):\n",
        "        super(Fire, self).__init__()\n",
        "        self.inplanes = inplanes\n",
        "        self.squeeze = nn.Conv2d(inplanes, squeeze_planes, kernel_size=1)\n",
        "        self.squeeze_activation = nn.ReLU(inplace=True)\n",
        "        self.expand1x1 = nn.Conv2d(squeeze_planes, expand1x1_planes,\n",
        "                                   kernel_size=1)\n",
        "        self.expand1x1_activation = nn.ReLU(inplace=True)\n",
        "        self.expand3x3 = nn.Conv2d(squeeze_planes, expand3x3_planes,\n",
        "                                   kernel_size=3, padding=1)\n",
        "        self.expand3x3_activation = nn.ReLU(inplace=True)\n",
        "\n",
        "    def forward(self, x):\n",
        "        x = self.squeeze_activation(self.squeeze(x))\n",
        "        return torch.cat([\n",
        "            self.expand1x1_activation(self.expand1x1(x)),\n",
        "            self.expand3x3_activation(self.expand3x3(x))\n",
        "        ], 1)\n"
      ],
      "execution_count": 0,
      "outputs": []
    },
    {
      "metadata": {
        "id": "aq7q0IK1ulPJ",
        "colab_type": "code",
        "colab": {}
      },
      "cell_type": "code",
      "source": [
        "\n",
        "\n",
        "class SqueezeNet(nn.Module):\n",
        "\n",
        "    def __init__(self, version=1.0, num_classes=1000):\n",
        "        super(SqueezeNet, self).__init__()\n",
        "        if version not in [1.0, 1.1]:\n",
        "            raise ValueError(\"Unsupported SqueezeNet version {version}:\"\n",
        "                             \"1.0 or 1.1 expected\".format(version=version))\n",
        "        self.num_classes = num_classes\n",
        "        if version == 1.0:\n",
        "            self.features = nn.Sequential(\n",
        "                nn.Conv2d(3, 96,kernel_size=7, stride=2),\n",
        "                nn.ReLU(inplace=True),\n",
        "                nn.MaxPool2d(kernel_size=3, stride=2, ceil_mode=True),\n",
        "                Fire(96, 16, 64, 64),\n",
        "                Fire(128, 16, 64, 64),\n",
        "                Fire(128, 32, 128, 128),\n",
        "                nn.MaxPool2d(kernel_size=3, stride=2, ceil_mode=True),\n",
        "                Fire(256, 32, 128, 128),\n",
        "                Fire(256, 48, 192, 192),\n",
        "                Fire(384, 48, 192, 192),\n",
        "                Fire(384, 64, 256, 256),\n",
        "                nn.MaxPool2d(kernel_size=3, stride=2, ceil_mode=True),\n",
        "                Fire(512, 64, 256, 256),\n",
        "            )\n",
        "        else:\n",
        "            self.features = nn.Sequential(\n",
        "                nn.Conv2d(3, 64, kernel_size=3, stride=2),\n",
        "                nn.ReLU(inplace=True),\n",
        "                nn.MaxPool2d(kernel_size=3, stride=2, ceil_mode=True),\n",
        "                Fire(64, 16, 64, 64),\n",
        "                Fire(128, 16, 64, 64),\n",
        "                nn.MaxPool2d(kernel_size=3, stride=2, ceil_mode=True),\n",
        "                Fire(128, 32, 128, 128),\n",
        "                Fire(256, 32, 128, 128),\n",
        "                nn.MaxPool2d(kernel_size=3, stride=2, ceil_mode=True),\n",
        "                Fire(256, 48, 192, 192),\n",
        "                Fire(384, 48, 192, 192),\n",
        "                Fire(384, 64, 256, 256),\n",
        "                Fire(512, 64, 256, 256),\n",
        "            )\n",
        "        # Final convolution is initialized differently form the rest\n",
        "        final_conv = nn.Conv2d(512, self.num_classes, kernel_size=1)\n",
        "        self.classifier = nn.Sequential(\n",
        "            nn.Dropout(p=0.5),\n",
        "            final_conv,\n",
        "            nn.ReLU(inplace=True),\n",
        "            nn.AvgPool2d(13, stride=1)\n",
        "        )\n",
        "\n",
        "        for m in self.modules():\n",
        "            if isinstance(m, nn.Conv2d):\n",
        "                if m is final_conv:\n",
        "                    init.normal(m.weight.data, mean=0.0, std=0.01)\n",
        "                else:\n",
        "                    init.kaiming_uniform(m.weight.data)\n",
        "                if m.bias is not None:\n",
        "                    m.bias.data.zero_()\n",
        "    def forward(self, x):\n",
        "        x = self.features(x)\n",
        "        x = self.classifier(x)\n",
        "        return x.view(x.size(0), self.num_classes)"
      ],
      "execution_count": 0,
      "outputs": []
    },
    {
      "metadata": {
        "id": "6Cb48oNjs22k",
        "colab_type": "code",
        "colab": {}
      },
      "cell_type": "code",
      "source": [
        "def squeezenet1_0(pretrained=False, **kwargs):\n",
        "    r\"\"\"SqueezeNet model architecture from the `\"SqueezeNet: AlexNet-level\n",
        "    accuracy with 50x fewer parameters and <0.5MB model size\"\n",
        "    <https://arxiv.org/abs/1602.07360>`_ paper.\n",
        "\n",
        "    Args:\n",
        "        pretrained (bool): If True, returns a model pre-trained on ImageNet\n",
        "    \"\"\"\n",
        "    model = SqueezeNet(version=1.0, **kwargs)\n",
        "    if pretrained:\n",
        "        model.load_state_dict(model_zoo.load_url(model_urls['squeezenet1_0']))\n",
        "    return model"
      ],
      "execution_count": 0,
      "outputs": []
    },
    {
      "metadata": {
        "id": "cGrx8mav7pu7",
        "colab_type": "code",
        "outputId": "87c2a17e-ee36-4143-b52f-eedc322898fb",
        "colab": {
          "base_uri": "https://localhost:8080/",
          "height": 74
        }
      },
      "cell_type": "code",
      "source": [
        "seq=squeezenet1_0(pretrained=False,num_classes=10).cuda()\n"
      ],
      "execution_count": 0,
      "outputs": [
        {
          "output_type": "stream",
          "text": [
            "/usr/local/lib/python3.6/dist-packages/ipykernel_launcher.py:57: UserWarning: nn.init.kaiming_uniform is now deprecated in favor of nn.init.kaiming_uniform_.\n",
            "/usr/local/lib/python3.6/dist-packages/ipykernel_launcher.py:55: UserWarning: nn.init.normal is now deprecated in favor of nn.init.normal_.\n"
          ],
          "name": "stderr"
        }
      ]
    },
    {
      "metadata": {
        "id": "Bl6Gne5QEvLT",
        "colab_type": "code",
        "outputId": "091becb1-0e40-45ff-cd00-2a90ae42adcc",
        "colab": {
          "base_uri": "https://localhost:8080/",
          "height": 54
        }
      },
      "cell_type": "code",
      "source": [
        "import torch\n",
        "import torchvision\n",
        "import torchvision.transforms as transforms\n",
        "\n",
        "\n",
        "transforms.Resize((227,227))\n",
        "\n",
        "transform = transforms.Compose(\n",
        "    [transforms.Resize((227,227)),\n",
        "     transforms.ToTensor(),\n",
        "     transforms.Normalize((0.5, 0.5, 0.5), (0.5, 0.5, 0.5))\n",
        "     ])\n",
        "trainset = torchvision.datasets.CIFAR10(root='./data', train=True,\n",
        "                                        download=True, transform=transform)\n",
        "trainloader = torch.utils.data.DataLoader(trainset, batch_size=4,\n",
        "                                          shuffle=True, num_workers=2)\n",
        "testset = torchvision.datasets.CIFAR10(root='./data', train=False,\n",
        "                                       download=True, transform=transform)\n",
        "testloader = torch.utils.data.DataLoader(testset, batch_size=4,\n",
        "                                         shuffle=False, num_workers=2)\n",
        "classes = ('plane', 'car', 'bird', 'cat',\n",
        "           'deer', 'dog', 'frog', 'horse', 'ship', 'truck')\n"
      ],
      "execution_count": 0,
      "outputs": [
        {
          "output_type": "stream",
          "text": [
            "Files already downloaded and verified\n",
            "Files already downloaded and verified\n"
          ],
          "name": "stdout"
        }
      ]
    },
    {
      "metadata": {
        "id": "_HReOC4qB8YV",
        "colab_type": "code",
        "outputId": "d25312db-8054-416e-e187-5889836dfe75",
        "colab": {
          "base_uri": "https://localhost:8080/",
          "height": 155
        }
      },
      "cell_type": "code",
      "source": [
        "import matplotlib.pyplot as plt\n",
        "import numpy as np\n",
        "# functions to show an image\n",
        "def imshow(img):\n",
        "    img = img / 2 + 0.5     # unnormalize\n",
        "    npimg = img.numpy()\n",
        "    plt.imshow(np.transpose(npimg, (1, 2, 0)))\n",
        "    plt.show()\n",
        "# get some random training images\n",
        "dataiter = iter(trainloader)\n",
        "images, labels = dataiter.next()\n",
        "# show images\n",
        "imshow(torchvision.utils.make_grid(images))\n",
        "# print labels\n",
        "print(' '.join('%5s' % classes[labels[j]] for j in range(4)))"
      ],
      "execution_count": 0,
      "outputs": [
        {
          "output_type": "display_data",
          "data": {
            "image/png": "[encoded data removed]",
            "text/plain": [
              "<Figure size 432x288 with 1 Axes>"
            ]
          },
          "metadata": {
            "tags": []
          }
        },
        {
          "output_type": "stream",
          "text": [
            "  car truck  frog  deer\n"
          ],
          "name": "stdout"
        }
      ]
    },
    {
      "metadata": {
        "id": "9Y4Lq8YjIGqK",
        "colab_type": "code",
        "outputId": "28e3e7b1-66c3-48e2-99db-0acabf9d005b",
        "colab": {
          "base_uri": "https://localhost:8080/",
          "height": 35
        }
      },
      "cell_type": "code",
      "source": [
        "images.shape"
      ],
      "execution_count": 0,
      "outputs": [
        {
          "output_type": "execute_result",
          "data": {
            "text/plain": [
              "torch.Size([4, 3, 227, 227])"
            ]
          },
          "metadata": {
            "tags": []
          },
          "execution_count": 11
        }
      ]
    },
    {
      "metadata": {
        "id": "yJ8q1erbADoK",
        "colab_type": "code",
        "colab": {}
      },
      "cell_type": "code",
      "source": [
        "import torch.optim as optim\n",
        "\n",
        "criterion = nn.CrossEntropyLoss()\n",
        "optimizer = optim.SGD(seq.parameters(), lr=0.001, momentum=0.9)"
      ],
      "execution_count": 0,
      "outputs": []
    },
    {
      "metadata": {
        "id": "YpPttxTdFb-a",
        "colab_type": "code",
        "colab": {}
      },
      "cell_type": "code",
      "source": [
        "optimizer.zero_grad()\n"
      ],
      "execution_count": 0,
      "outputs": []
    },
    {
      "metadata": {
        "id": "T_BsiiMyAFFj",
        "colab_type": "code",
        "colab": {}
      },
      "cell_type": "code",
      "source": [
        "for epoch in range(10):  # loop over the dataset multiple times\n",
        "    print(epoch)\n",
        "\n",
        "    running_loss = 0.0\n",
        "    for i, data in enumerate(trainloader, 0):\n",
        "        # get the inputs\n",
        "        inputs, labels = data\n",
        "\n",
        "        # zero the parameter gradients\n",
        "        optimizer.zero_grad()\n",
        "\n",
        "        # forward + backward + optimize\n",
        "        outputs = seq(inputs.cuda())\n",
        "        loss = criterion(outputs.cuda(), labels.cuda())\n",
        "        loss.backward()\n",
        "        optimizer.step()\n",
        "        # print statistics\n",
        "        running_loss += loss.item()\n",
        "        if i % 2000 == 1999:    # print every 2000 mini-batches\n",
        "            print('[%d, %5d] loss: %.3f' %\n",
        "                  (epoch + 1, i + 1, running_loss / 2000))\n",
        "            running_loss = 0.0\n",
        "\n",
        "print('Finished Training')"
      ],
      "execution_count": 0,
      "outputs": []
    },
    {
      "metadata": {
        "id": "U7yJ9V148AWo",
        "colab_type": "code",
        "outputId": "8d218560-55a5-462a-e4e4-42c909af32b9",
        "colab": {
          "base_uri": "https://localhost:8080/",
          "height": 35
        }
      },
      "cell_type": "code",
      "source": [
        "dataiter = iter(testloader)\n",
        "images, labels = dataiter.next()\n",
        "outputs = seq(images.cuda())\n",
        "\n",
        "correct = 0\n",
        "total = 0\n",
        "with torch.no_grad():\n",
        "    for data in testloader:\n",
        "        images, labels = data\n",
        "        outputs = seq(images.cuda())\n",
        "        _, predicted = torch.max(outputs.data, 1)\n",
        "        total += labels.size(0)\n",
        "        correct += (predicted == labels.cuda()).sum().item()\n",
        "print('Accuracy of the network on the 10000 test images: %d %%' % (\n",
        "    100 * correct / total))\n",
        "\n",
        "acc=100 * correct / total\n",
        "\n"
      ],
      "execution_count": 0,
      "outputs": [
        {
          "output_type": "stream",
          "text": [
            "Accuracy of the network on the 10000 test images: 67 %\n"
          ],
          "name": "stdout"
        }
      ]
    },
    {
      "metadata": {
        "id": "HPxMLhx6_PrK",
        "colab_type": "text"
      },
      "cell_type": "markdown",
      "source": [
        "### Number of total parameters"
      ]
    },
    {
      "metadata": {
        "id": "GHi7ha1a8r4J",
        "colab_type": "code",
        "colab": {}
      },
      "cell_type": "code",
      "source": [
        "pytorch_total_params = sum(p.numel() for p in seq.parameters())\n",
        "pytorch_total_params\n"
      ],
      "execution_count": 0,
      "outputs": []
    },
    {
      "metadata": {
        "id": "P2xwJIeUdsxz",
        "colab_type": "code",
        "colab": {}
      },
      "cell_type": "code",
      "source": [
        ""
      ],
      "execution_count": 0,
      "outputs": []
    },
    {
      "metadata": {
        "id": "mmqBsCxP_YBT",
        "colab_type": "text"
      },
      "cell_type": "markdown",
      "source": [
        "### Number of trainable parameters"
      ]
    },
    {
      "metadata": {
        "id": "0t2rg5WW_IlA",
        "colab_type": "code",
        "colab": {}
      },
      "cell_type": "code",
      "source": [
        "pytorch_train_params = sum(p.numel() for p in seq.parameters() if p.requires_grad)\n",
        "\n",
        "pytorch_train_params\n"
      ],
      "execution_count": 0,
      "outputs": []
    },
    {
      "metadata": {
        "id": "haB4IzMFBvl-",
        "colab_type": "text"
      },
      "cell_type": "markdown",
      "source": [
        "### Model Summary"
      ]
    },
    {
      "metadata": {
        "id": "l_jCddRQ_Kn5",
        "colab_type": "code",
        "outputId": "44280526-73ed-4bf5-ee98-fab0f1569922",
        "colab": {
          "base_uri": "https://localhost:8080/",
          "height": 1435
        }
      },
      "cell_type": "code",
      "source": [
        "# model summary \n",
        "import torch.nn.functional as F\n",
        "from torchsummary import summary\n",
        "seq.cuda()\n",
        "summary(seq, (3, 227, 227))"
      ],
      "execution_count": 0,
      "outputs": [
        {
          "output_type": "stream",
          "text": [
            "----------------------------------------------------------------\n",
            "        Layer (type)               Output Shape         Param #\n",
            "================================================================\n",
            "            Conv2d-1         [-1, 96, 111, 111]          14,208\n",
            "              ReLU-2         [-1, 96, 111, 111]               0\n",
            "         MaxPool2d-3           [-1, 96, 55, 55]               0\n",
            "            Conv2d-4           [-1, 16, 55, 55]           1,552\n",
            "              ReLU-5           [-1, 16, 55, 55]               0\n",
            "            Conv2d-6           [-1, 64, 55, 55]           1,088\n",
            "              ReLU-7           [-1, 64, 55, 55]               0\n",
            "            Conv2d-8           [-1, 64, 55, 55]           9,280\n",
            "              ReLU-9           [-1, 64, 55, 55]               0\n",
            "             Fire-10          [-1, 128, 55, 55]               0\n",
            "           Conv2d-11           [-1, 16, 55, 55]           2,064\n",
            "             ReLU-12           [-1, 16, 55, 55]               0\n",
            "           Conv2d-13           [-1, 64, 55, 55]           1,088\n",
            "             ReLU-14           [-1, 64, 55, 55]               0\n",
            "           Conv2d-15           [-1, 64, 55, 55]           9,280\n",
            "             ReLU-16           [-1, 64, 55, 55]               0\n",
            "             Fire-17          [-1, 128, 55, 55]               0\n",
            "           Conv2d-18           [-1, 32, 55, 55]           4,128\n",
            "             ReLU-19           [-1, 32, 55, 55]               0\n",
            "           Conv2d-20          [-1, 128, 55, 55]           4,224\n",
            "             ReLU-21          [-1, 128, 55, 55]               0\n",
            "           Conv2d-22          [-1, 128, 55, 55]          36,992\n",
            "             ReLU-23          [-1, 128, 55, 55]               0\n",
            "             Fire-24          [-1, 256, 55, 55]               0\n",
            "        MaxPool2d-25          [-1, 256, 27, 27]               0\n",
            "           Conv2d-26           [-1, 32, 27, 27]           8,224\n",
            "             ReLU-27           [-1, 32, 27, 27]               0\n",
            "           Conv2d-28          [-1, 128, 27, 27]           4,224\n",
            "             ReLU-29          [-1, 128, 27, 27]               0\n",
            "           Conv2d-30          [-1, 128, 27, 27]          36,992\n",
            "             ReLU-31          [-1, 128, 27, 27]               0\n",
            "             Fire-32          [-1, 256, 27, 27]               0\n",
            "           Conv2d-33           [-1, 48, 27, 27]          12,336\n",
            "             ReLU-34           [-1, 48, 27, 27]               0\n",
            "           Conv2d-35          [-1, 192, 27, 27]           9,408\n",
            "             ReLU-36          [-1, 192, 27, 27]               0\n",
            "           Conv2d-37          [-1, 192, 27, 27]          83,136\n",
            "             ReLU-38          [-1, 192, 27, 27]               0\n",
            "             Fire-39          [-1, 384, 27, 27]               0\n",
            "           Conv2d-40           [-1, 48, 27, 27]          18,480\n",
            "             ReLU-41           [-1, 48, 27, 27]               0\n",
            "           Conv2d-42          [-1, 192, 27, 27]           9,408\n",
            "             ReLU-43          [-1, 192, 27, 27]               0\n",
            "           Conv2d-44          [-1, 192, 27, 27]          83,136\n",
            "             ReLU-45          [-1, 192, 27, 27]               0\n",
            "             Fire-46          [-1, 384, 27, 27]               0\n",
            "           Conv2d-47           [-1, 64, 27, 27]          24,640\n",
            "             ReLU-48           [-1, 64, 27, 27]               0\n",
            "           Conv2d-49          [-1, 256, 27, 27]          16,640\n",
            "             ReLU-50          [-1, 256, 27, 27]               0\n",
            "           Conv2d-51          [-1, 256, 27, 27]         147,712\n",
            "             ReLU-52          [-1, 256, 27, 27]               0\n",
            "             Fire-53          [-1, 512, 27, 27]               0\n",
            "        MaxPool2d-54          [-1, 512, 13, 13]               0\n",
            "           Conv2d-55           [-1, 64, 13, 13]          32,832\n",
            "             ReLU-56           [-1, 64, 13, 13]               0\n",
            "           Conv2d-57          [-1, 256, 13, 13]          16,640\n",
            "             ReLU-58          [-1, 256, 13, 13]               0\n",
            "           Conv2d-59          [-1, 256, 13, 13]         147,712\n",
            "             ReLU-60          [-1, 256, 13, 13]               0\n",
            "             Fire-61          [-1, 512, 13, 13]               0\n",
            "          Dropout-62          [-1, 512, 13, 13]               0\n",
            "           Conv2d-63           [-1, 10, 13, 13]           5,130\n",
            "             ReLU-64           [-1, 10, 13, 13]               0\n",
            "        AvgPool2d-65             [-1, 10, 1, 1]               0\n",
            "================================================================\n",
            "Total params: 740,554\n",
            "Trainable params: 740,554\n",
            "Non-trainable params: 0\n",
            "----------------------------------------------------------------\n",
            "Input size (MB): 0.59\n",
            "Forward/backward pass size (MB): 91.35\n",
            "Params size (MB): 2.82\n",
            "Estimated Total Size (MB): 94.76\n",
            "----------------------------------------------------------------\n"
          ],
          "name": "stdout"
        }
      ]
    },
    {
      "metadata": {
        "id": "iacD9DTmLJrh",
        "colab_type": "text"
      },
      "cell_type": "markdown",
      "source": [
        "# SqueezNet MINST "
      ]
    },
    {
      "metadata": {
        "id": "JmT8Rvd04InQ",
        "colab_type": "code",
        "outputId": "59155ea3-ad7a-4bee-bce7-74e990037de9",
        "colab": {
          "base_uri": "https://localhost:8080/",
          "height": 74
        }
      },
      "cell_type": "code",
      "source": [
        "seq2=squeezenet1_0(pretrained=False,num_classes=10).cuda()\n"
      ],
      "execution_count": 0,
      "outputs": [
        {
          "output_type": "stream",
          "text": [
            "/usr/local/lib/python3.6/dist-packages/ipykernel_launcher.py:57: UserWarning: nn.init.kaiming_uniform is now deprecated in favor of nn.init.kaiming_uniform_.\n",
            "/usr/local/lib/python3.6/dist-packages/ipykernel_launcher.py:55: UserWarning: nn.init.normal is now deprecated in favor of nn.init.normal_.\n"
          ],
          "name": "stderr"
        }
      ]
    },
    {
      "metadata": {
        "id": "Y3k7UcF2LMWZ",
        "colab_type": "code",
        "outputId": "16b62ed0-42de-4e55-d2e1-87249748cf96",
        "colab": {
          "base_uri": "https://localhost:8080/",
          "height": 292
        }
      },
      "cell_type": "code",
      "source": [
        "transform = transforms.Compose(\n",
        "    [torchvision.transforms.Grayscale(num_output_channels=3),transforms.Resize((227,227)),\n",
        "     transforms.ToTensor(),\n",
        "     transforms.Normalize((0.5, 0.5, 0.5), (0.5, 0.5, 0.5))\n",
        "     ])\n",
        "\n",
        "\n",
        "trainset = torchvision.datasets.MNIST(root='./data', train=True,\n",
        "                                        download=True, transform=transform)\n",
        "\n",
        "trainloader = torch.utils.data.DataLoader(trainset, batch_size=4,\n",
        "                                          shuffle=True, num_workers=2)\n",
        "\n",
        "testset = torchvision.datasets.MNIST(root='./data', train=False,\n",
        "                                       download=True, transform=transform)\n",
        "testloader = torch.utils.data.DataLoader(testset, batch_size=10000,\n",
        "                                         shuffle=False, num_workers=2)\n",
        "\n",
        "classes = ('0', '1', '2', '3',\n",
        "           '4', '5', '6', '7', '8', '9')"
      ],
      "execution_count": 0,
      "outputs": [
        {
          "output_type": "stream",
          "text": [
            "\r0it [00:00, ?it/s]"
          ],
          "name": "stderr"
        },
        {
          "output_type": "stream",
          "text": [
            "Downloading http://yann.lecun.com/exdb/mnist/train-images-idx3-ubyte.gz to ./data/MNIST/raw/train-images-idx3-ubyte.gz\n"
          ],
          "name": "stdout"
        },
        {
          "output_type": "stream",
          "text": [
            "9920512it [00:01, 8639264.36it/s]                            \n"
          ],
          "name": "stderr"
        },
        {
          "output_type": "stream",
          "text": [
            "Extracting ./data/MNIST/raw/train-images-idx3-ubyte.gz\n"
          ],
          "name": "stdout"
        },
        {
          "output_type": "stream",
          "text": [
            "  0%|          | 0/28881 [00:00<?, ?it/s]"
          ],
          "name": "stderr"
        },
        {
          "output_type": "stream",
          "text": [
            "Downloading http://yann.lecun.com/exdb/mnist/train-labels-idx1-ubyte.gz to ./data/MNIST/raw/train-labels-idx1-ubyte.gz\n"
          ],
          "name": "stdout"
        },
        {
          "output_type": "stream",
          "text": [
            "32768it [00:00, 135803.47it/s]           \n",
            "  0%|          | 0/1648877 [00:00<?, ?it/s]"
          ],
          "name": "stderr"
        },
        {
          "output_type": "stream",
          "text": [
            "Extracting ./data/MNIST/raw/train-labels-idx1-ubyte.gz\n",
            "Downloading http://yann.lecun.com/exdb/mnist/t10k-images-idx3-ubyte.gz to ./data/MNIST/raw/t10k-images-idx3-ubyte.gz\n"
          ],
          "name": "stdout"
        },
        {
          "output_type": "stream",
          "text": [
            "1654784it [00:00, 2450669.01it/s]                           \n",
            "0it [00:00, ?it/s]"
          ],
          "name": "stderr"
        },
        {
          "output_type": "stream",
          "text": [
            "Extracting ./data/MNIST/raw/t10k-images-idx3-ubyte.gz\n",
            "Downloading http://yann.lecun.com/exdb/mnist/t10k-labels-idx1-ubyte.gz to ./data/MNIST/raw/t10k-labels-idx1-ubyte.gz\n"
          ],
          "name": "stdout"
        },
        {
          "output_type": "stream",
          "text": [
            "8192it [00:00, 51463.93it/s]            \n"
          ],
          "name": "stderr"
        },
        {
          "output_type": "stream",
          "text": [
            "Extracting ./data/MNIST/raw/t10k-labels-idx1-ubyte.gz\n",
            "Processing...\n",
            "Done!\n"
          ],
          "name": "stdout"
        }
      ]
    },
    {
      "metadata": {
        "id": "8wKsQuNvMNHc",
        "colab_type": "code",
        "outputId": "5e605b8c-993d-49a9-fe57-9c33cfe1ba5a",
        "colab": {
          "base_uri": "https://localhost:8080/",
          "height": 269
        }
      },
      "cell_type": "code",
      "source": [
        "import matplotlib.pyplot as plt\n",
        "import numpy as np\n",
        "\n",
        "def imshow(img):\n",
        "    img = img / 2 + 0.5     # unnormalize\n",
        "    npimg = img.numpy()\n",
        "    plt.imshow(np.transpose(npimg, (1, 2, 0)))\n",
        "    plt.show()\n",
        "\n",
        "# get some random training images\n",
        "dataiter = iter(trainloader)\n",
        "images, labels = dataiter.next()\n",
        "images=images[0]\n",
        "labels=labels[0]\n",
        "# show images\n",
        "imshow(torchvision.utils.make_grid(images))\n",
        "# print labels"
      ],
      "execution_count": 0,
      "outputs": [
        {
          "output_type": "display_data",
          "data": {
            "image/png": "[encoded data removed]",
            "text/plain": [
              "<Figure size 432x288 with 1 Axes>"
            ]
          },
          "metadata": {
            "tags": []
          }
        }
      ]
    },
    {
      "metadata": {
        "id": "6ql-7LnQPyOe",
        "colab_type": "code",
        "colab": {}
      },
      "cell_type": "code",
      "source": [
        "import torch.optim as optim\n",
        "\n",
        "criterion = nn.CrossEntropyLoss()\n",
        "optimizer = optim.Adam(seq2.parameters(), lr=0.001)\n",
        "optimizer.zero_grad()"
      ],
      "execution_count": 0,
      "outputs": []
    },
    {
      "metadata": {
        "id": "iV1ooMEURy-x",
        "colab_type": "code",
        "outputId": "d3fdc7c6-09e2-4650-8404-3b96c32b99a3",
        "colab": {
          "base_uri": "https://localhost:8080/",
          "height": 1490
        }
      },
      "cell_type": "code",
      "source": [
        "for epoch in range(10):  # loop over the dataset multiple times\n",
        "    print(epoch)\n",
        "    running_loss = 0.0\n",
        "    for i, data in enumerate(trainloader, 0):\n",
        "        # get the inputs\n",
        "        inputs, labels = data\n",
        "\n",
        "        # zero the parameter gradients\n",
        "        optimizer.zero_grad()\n",
        "\n",
        "        # forward + backward + optimize\n",
        "        outputs = seq2(inputs.cuda())\n",
        "        loss = criterion(outputs.cuda(), labels.cuda())\n",
        "        loss.backward()\n",
        "        optimizer.step()\n",
        "       \n",
        "        # print statistics\n",
        "        running_loss += loss.item()\n",
        "        if i % 2000 == 1999:    # print every 2000 mini-batches\n",
        "            print('[%d, %5d] loss: %.3f' %\n",
        "                  (epoch + 1, i + 1, running_loss / 2000))\n",
        "            running_loss = 0.0\n",
        "\n",
        "print('Finished Training')"
      ],
      "execution_count": 0,
      "outputs": [
        {
          "output_type": "stream",
          "text": [
            "0\n",
            "[1,  2000] loss: 2.303\n",
            "[1,  4000] loss: 2.302\n",
            "[1,  6000] loss: 2.306\n",
            "[1,  8000] loss: 2.303\n",
            "[1, 10000] loss: 2.303\n",
            "[1, 12000] loss: 2.305\n",
            "[1, 14000] loss: 2.304\n",
            "1\n",
            "[2,  2000] loss: 2.305\n",
            "[2,  4000] loss: 2.304\n",
            "[2,  6000] loss: 2.304\n",
            "[2,  8000] loss: 2.304\n",
            "[2, 10000] loss: 2.303\n",
            "[2, 12000] loss: 2.301\n",
            "[2, 14000] loss: 2.303\n",
            "2\n",
            "[3,  2000] loss: 2.304\n",
            "[3,  4000] loss: 2.304\n",
            "[3,  6000] loss: 2.304\n",
            "[3,  8000] loss: 2.302\n",
            "[3, 10000] loss: 2.303\n",
            "[3, 12000] loss: 2.303\n",
            "[3, 14000] loss: 2.305\n",
            "3\n",
            "[4,  2000] loss: 2.303\n",
            "[4,  4000] loss: 2.303\n",
            "[4,  6000] loss: 2.303\n",
            "[4,  8000] loss: 2.304\n",
            "[4, 10000] loss: 2.305\n",
            "[4, 12000] loss: 2.304\n",
            "[4, 14000] loss: 2.303\n",
            "4\n",
            "[5,  2000] loss: 2.304\n",
            "[5,  4000] loss: 2.304\n",
            "[5,  6000] loss: 2.302\n",
            "[5,  8000] loss: 2.304\n",
            "[5, 10000] loss: 2.303\n",
            "[5, 12000] loss: 2.304\n",
            "[5, 14000] loss: 2.305\n",
            "5\n",
            "[6,  2000] loss: 2.304\n",
            "[6,  4000] loss: 2.304\n",
            "[6,  6000] loss: 2.304\n",
            "[6,  8000] loss: 2.304\n",
            "[6, 10000] loss: 2.302\n",
            "[6, 12000] loss: 2.302\n",
            "[6, 14000] loss: 2.304\n",
            "6\n",
            "[7,  2000] loss: 2.302\n",
            "[7,  4000] loss: 2.303\n",
            "[7,  6000] loss: 2.304\n",
            "[7,  8000] loss: 2.306\n",
            "[7, 10000] loss: 2.304\n",
            "[7, 12000] loss: 2.304\n",
            "[7, 14000] loss: 2.303\n",
            "7\n",
            "[8,  2000] loss: 2.304\n",
            "[8,  4000] loss: 2.304\n",
            "[8,  6000] loss: 2.304\n",
            "[8,  8000] loss: 2.304\n",
            "[8, 10000] loss: 2.303\n",
            "[8, 12000] loss: 2.303\n",
            "[8, 14000] loss: 2.303\n",
            "8\n",
            "[9,  2000] loss: 2.303\n",
            "[9,  4000] loss: 2.304\n",
            "[9,  6000] loss: 2.303\n",
            "[9,  8000] loss: 2.302\n",
            "[9, 10000] loss: 2.304\n",
            "[9, 12000] loss: 2.304\n",
            "[9, 14000] loss: 2.304\n",
            "9\n",
            "[10,  2000] loss: 2.301\n",
            "[10,  4000] loss: 2.305\n",
            "[10,  6000] loss: 2.303\n",
            "[10,  8000] loss: 2.304\n",
            "[10, 10000] loss: 2.304\n",
            "[10, 12000] loss: 2.304\n",
            "[10, 14000] loss: 2.303\n",
            "Finished Training\n"
          ],
          "name": "stdout"
        }
      ]
    },
    {
      "metadata": {
        "id": "LlsptXmcR2Cv",
        "colab_type": "code",
        "colab": {}
      },
      "cell_type": "code",
      "source": [
        "dataiter = iter(testloader)\n",
        "images, labels = dataiter.next()\n",
        "outputs = seq2(images.cuda())\n",
        "\n",
        "correct = 0\n",
        "total = 0\n",
        "with torch.no_grad():\n",
        "    for data in testloader:\n",
        "        images, labels = data\n",
        "        outputs = seq2(images.cuda())\n",
        "        _, predicted = torch.max(outputs.data, 1)\n",
        "        total += labels.size(0)\n",
        "        correct += (predicted == labels.cuda()).sum().item()\n",
        "print('Accuracy of the network on the 10000 test images: %d %%' % (\n",
        "    100 * correct / total))\n",
        "\n",
        "acc=100 * correct / total\n"
      ],
      "execution_count": 0,
      "outputs": []
    },
    {
      "metadata": {
        "id": "y71h1Lu2R27k",
        "colab_type": "code",
        "colab": {}
      },
      "cell_type": "code",
      "source": [
        "# model summary \n",
        "import torch.nn.functional as F\n",
        "from torchsummary import summary\n",
        "seq2.cuda()\n",
        "summary(seq2, (3, 227, 227))"
      ],
      "execution_count": 0,
      "outputs": []
    }
  ]
}